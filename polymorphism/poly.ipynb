{
 "cells": [
  {
   "cell_type": "code",
   "execution_count": 1,
   "id": "eb3736e5",
   "metadata": {},
   "outputs": [],
   "source": [
    "import pandas as pd"
   ]
  },
  {
   "cell_type": "code",
   "execution_count": 5,
   "id": "c7280908",
   "metadata": {},
   "outputs": [],
   "source": [
    "class india:\n",
    "    def capital(self):\n",
    "        print(\"capital of india is new delhi\")\n",
    "    def language(self):\n",
    "        print(\"hindi is widely spoken language of india\")\n",
    "\n",
    "class france:\n",
    "    def capital(self):\n",
    "        print('caital of france is paris')\n",
    "    def language(self): \n",
    "        print('french is widely spoken language in france')\n",
    "\n",
    "class usa:\n",
    "    def capital(self):\n",
    "        print('capital of usa is washington Dc')\n",
    "    def language(self):\n",
    "        print('english is widely spoken language in usa')"
   ]
  },
  {
   "cell_type": "code",
   "execution_count": 6,
   "id": "5b3f81be",
   "metadata": {},
   "outputs": [],
   "source": [
    "i = india()"
   ]
  },
  {
   "cell_type": "code",
   "execution_count": 7,
   "id": "4b26d86c",
   "metadata": {},
   "outputs": [
    {
     "name": "stdout",
     "output_type": "stream",
     "text": [
      "hindi is widely spoken language of india\n"
     ]
    }
   ],
   "source": [
    "i.language()"
   ]
  },
  {
   "cell_type": "code",
   "execution_count": 9,
   "id": "d9293c4e",
   "metadata": {},
   "outputs": [
    {
     "name": "stdout",
     "output_type": "stream",
     "text": [
      "capital of india is new delhi\n"
     ]
    }
   ],
   "source": [
    "i.capital()"
   ]
  },
  {
   "cell_type": "code",
   "execution_count": 10,
   "id": "6b8223d4",
   "metadata": {},
   "outputs": [],
   "source": [
    "f = france()"
   ]
  },
  {
   "cell_type": "code",
   "execution_count": 11,
   "id": "ae9c9fcb",
   "metadata": {},
   "outputs": [
    {
     "name": "stdout",
     "output_type": "stream",
     "text": [
      "caital of france is paris\n"
     ]
    }
   ],
   "source": [
    "f.capital()"
   ]
  },
  {
   "cell_type": "code",
   "execution_count": 12,
   "id": "01f6d943",
   "metadata": {},
   "outputs": [
    {
     "name": "stdout",
     "output_type": "stream",
     "text": [
      "french is widely spoken language in france\n"
     ]
    }
   ],
   "source": [
    "f.language()"
   ]
  },
  {
   "cell_type": "code",
   "execution_count": 13,
   "id": "15445730",
   "metadata": {},
   "outputs": [],
   "source": [
    "u = usa()"
   ]
  },
  {
   "cell_type": "code",
   "execution_count": 14,
   "id": "3e55783a",
   "metadata": {},
   "outputs": [
    {
     "name": "stdout",
     "output_type": "stream",
     "text": [
      "capital of usa is washington Dc\n"
     ]
    }
   ],
   "source": [
    "u.capital()"
   ]
  },
  {
   "cell_type": "code",
   "execution_count": 15,
   "id": "176fe2dd",
   "metadata": {},
   "outputs": [
    {
     "name": "stdout",
     "output_type": "stream",
     "text": [
      "english is widely spoken language in usa\n"
     ]
    }
   ],
   "source": [
    "u.language()"
   ]
  },
  {
   "cell_type": "code",
   "execution_count": 19,
   "id": "3d2c2bf4",
   "metadata": {},
   "outputs": [],
   "source": [
    "#create class for rectangle to find area and perimeter \n",
    "\n",
    "class Rectangle:\n",
    "    def __init__(self, length, width):\n",
    "        self.length = length\n",
    "        self.width = width\n",
    "\n",
    "    \n",
    "    def area(self):\n",
    "        return self.length * self.width\n",
    "        print('area of rectangle is ')\n",
    "        \n",
    "\n",
    "    def perimeter(self):\n",
    "        return 2 * (self.length + self.width)\n",
    "        print('perimeter of rectangle is ')\n"
   ]
  },
  {
   "cell_type": "code",
   "execution_count": 20,
   "id": "e275b3cd",
   "metadata": {},
   "outputs": [],
   "source": [
    "R = Rectangle(10,5)"
   ]
  },
  {
   "cell_type": "code",
   "execution_count": 21,
   "id": "7eeccc8a",
   "metadata": {},
   "outputs": [
    {
     "data": {
      "text/plain": [
       "50"
      ]
     },
     "execution_count": 21,
     "metadata": {},
     "output_type": "execute_result"
    }
   ],
   "source": [
    "R.area()"
   ]
  },
  {
   "cell_type": "code",
   "execution_count": 22,
   "id": "62b2aaa0",
   "metadata": {},
   "outputs": [
    {
     "data": {
      "text/plain": [
       "30"
      ]
     },
     "execution_count": 22,
     "metadata": {},
     "output_type": "execute_result"
    }
   ],
   "source": [
    "R.perimeter()"
   ]
  },
  {
   "cell_type": "code",
   "execution_count": null,
   "id": "1ef66d2c",
   "metadata": {},
   "outputs": [],
   "source": []
  }
 ],
 "metadata": {
  "kernelspec": {
   "display_name": "venv",
   "language": "python",
   "name": "python3"
  },
  "language_info": {
   "codemirror_mode": {
    "name": "ipython",
    "version": 3
   },
   "file_extension": ".py",
   "mimetype": "text/x-python",
   "name": "python",
   "nbconvert_exporter": "python",
   "pygments_lexer": "ipython3",
   "version": "3.13.5"
  }
 },
 "nbformat": 4,
 "nbformat_minor": 5
}
