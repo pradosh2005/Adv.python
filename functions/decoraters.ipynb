{
 "cells": [
  {
   "cell_type": "code",
   "execution_count": 1,
   "id": "933c2321",
   "metadata": {},
   "outputs": [],
   "source": [
    "def welcome(func):\n",
    "    def wrapper(*args , **kwargs):\n",
    "        print('welcome user')\n",
    "        result = func(*args , **kwargs)\n",
    "        print(f'output of function , {result}')\n",
    "        print('thank you')\n",
    "        return result\n",
    "    return wrapper "
   ]
  },
  {
   "cell_type": "code",
   "execution_count": 9,
   "id": "c2e4b258",
   "metadata": {},
   "outputs": [],
   "source": [
    "@welcome\n",
    "def simple_interest(P:int | float , N:int|float , R :int|float):\n",
    "    \"\"\" \n",
    "    \n",
    "    p: priciple amount\n",
    "    N : number of years\n",
    "    R: rate of interest \n",
    "     \"\"\"\n",
    "    I= P*N*R/100\n",
    "    A= P+I\n",
    "    return f\"Interest {I}. Amount to be return {A}\""
   ]
  },
  {
   "cell_type": "code",
   "execution_count": 10,
   "id": "11e49ac8",
   "metadata": {},
   "outputs": [
    {
     "name": "stdout",
     "output_type": "stream",
     "text": [
      "welcome user\n",
      "output of function , Interest 1320.0. Amount to be return 11320.0\n",
      "thank you\n"
     ]
    },
    {
     "data": {
      "text/plain": [
       "'Interest 1320.0. Amount to be return 11320.0'"
      ]
     },
     "execution_count": 10,
     "metadata": {},
     "output_type": "execute_result"
    }
   ],
   "source": [
    "simple_interest( P= 10000,N= 2,R= 6.6)"
   ]
  },
  {
   "cell_type": "code",
   "execution_count": 12,
   "id": "1e3a02bf",
   "metadata": {},
   "outputs": [],
   "source": [
    "#program for simple compound interest \n",
    "def welcome_user(func):\n",
    "    def wrapper(*args , **kwargs):\n",
    "        print('welcome to the page')\n",
    "        result = func(*args , **kwargs)\n",
    "        print(f'output of function , {result}')\n",
    "        print('thank you')\n",
    "        return result\n",
    "    return wrapper"
   ]
  },
  {
   "cell_type": "code",
   "execution_count": 28,
   "id": "cb957c9b",
   "metadata": {},
   "outputs": [],
   "source": [
    "@welcome\n",
    "def compound_interest(P:int | float , N:int|float , R :int|float):\n",
    "    \"\"\" \n",
    "    \n",
    "    p: priciple amount\n",
    "    N: number of years\n",
    "    R: Rate of interest \n",
    "     \"\"\"\n",
    "    A= P*(1+R/100)**(N)\n",
    "    CI = A-P\n",
    "    return f\"CI-->{CI}\""
   ]
  },
  {
   "cell_type": "code",
   "execution_count": 29,
   "id": "0239a89a",
   "metadata": {},
   "outputs": [
    {
     "name": "stdout",
     "output_type": "stream",
     "text": [
      "welcome user\n",
      "output of function , CI-->21000.000000000015\n",
      "thank you\n"
     ]
    },
    {
     "data": {
      "text/plain": [
       "'CI-->21000.000000000015'"
      ]
     },
     "execution_count": 29,
     "metadata": {},
     "output_type": "execute_result"
    }
   ],
   "source": [
    "compound_interest(P=100000,R=10,N=2)"
   ]
  },
  {
   "cell_type": "code",
   "execution_count": 36,
   "id": "1ba5f34f",
   "metadata": {},
   "outputs": [],
   "source": [
    "user= {\"sarathak\" :'sarathak@123',\n",
    "         'sunita': 'sunita@123'}"
   ]
  },
  {
   "cell_type": "code",
   "execution_count": 43,
   "id": "7e53ab4f",
   "metadata": {},
   "outputs": [],
   "source": [
    "def Authentication(func):\n",
    "    def wrapper(username, password, *args, **kwargs):\n",
    "        if username in user.key() and password == user[username]:\n",
    "            print('Login succesfully')\n",
    "            print('welcome user')\n",
    "            result = func(username, password, *args, **kwargs)\n",
    "            return result\n",
    "        else:\n",
    "            print('invalid login ')\n",
    "            print('please check username or password')\n",
    "    return wrapper"
   ]
  },
  {
   "cell_type": "code",
   "execution_count": 46,
   "id": "a9a36034",
   "metadata": {},
   "outputs": [],
   "source": [
    "@welcome\n",
    "def compound_interest(username:str, password:str ,P:int | float , N:int|float , R :int|float):\n",
    "    \"\"\" \n",
    "    \n",
    "    p: priciple amount\n",
    "    N: number of years\n",
    "    R: Rate of interest \n",
    "     \"\"\"\n",
    "    A= P*(1+R/100)**(N)\n",
    "    CI = A-P\n",
    "    return f\"CI-->{CI}\""
   ]
  },
  {
   "cell_type": "code",
   "execution_count": 39,
   "id": "19de454f",
   "metadata": {},
   "outputs": [
    {
     "name": "stdout",
     "output_type": "stream",
     "text": [
      "welcome user\n",
      "output of function , CI-->1592.7407430000003\n",
      "thank you\n"
     ]
    },
    {
     "data": {
      "text/plain": [
       "'CI-->1592.7407430000003'"
      ]
     },
     "execution_count": 39,
     "metadata": {},
     "output_type": "execute_result"
    }
   ],
   "source": [
    "compound_interest(username = \"sarathak\", password= \"sarathak@123\", P= 10000 , N= 5, R=3)"
   ]
  },
  {
   "cell_type": "code",
   "execution_count": 47,
   "id": "c8291780",
   "metadata": {},
   "outputs": [],
   "source": [
    "#create the decorator to find elapsed time to dispaly output of function \n",
    "import time "
   ]
  },
  {
   "cell_type": "code",
   "execution_count": 51,
   "id": "1a86056a",
   "metadata": {},
   "outputs": [],
   "source": [
    "def elapsed_time(func):\n",
    "    def wrapper(*args, **kwargs):\n",
    "        start = time.time()            \n",
    "        result = func(*args, **kwargs) \n",
    "        print(result)\n",
    "        end = time.time()             \n",
    "        elapsed_time = end-start\n",
    "        print(f\"elapsed_time -->{elapsed_time}\")\n",
    "        return result                  \n",
    "    return wrapper"
   ]
  },
  {
   "cell_type": "code",
   "execution_count": 52,
   "id": "16ca3e3e",
   "metadata": {},
   "outputs": [],
   "source": [
    "@elapsed_time\n",
    "def factorial(n:int):\n",
    "    fact = 1\n",
    "    for i in range(1, n+1):\n",
    "        fact = fact*1\n",
    "    return fact"
   ]
  },
  {
   "cell_type": "code",
   "execution_count": 54,
   "id": "9083225a",
   "metadata": {},
   "outputs": [
    {
     "name": "stdout",
     "output_type": "stream",
     "text": [
      "1\n",
      "elapsed_time -->9.274482727050781e-05\n"
     ]
    },
    {
     "data": {
      "text/plain": [
       "1"
      ]
     },
     "execution_count": 54,
     "metadata": {},
     "output_type": "execute_result"
    }
   ],
   "source": [
    "factorial(5)"
   ]
  },
  {
   "cell_type": "code",
   "execution_count": null,
   "id": "5a5d93ce",
   "metadata": {},
   "outputs": [],
   "source": []
  }
 ],
 "metadata": {
  "kernelspec": {
   "display_name": "venv",
   "language": "python",
   "name": "python3"
  },
  "language_info": {
   "codemirror_mode": {
    "name": "ipython",
    "version": 3
   },
   "file_extension": ".py",
   "mimetype": "text/x-python",
   "name": "python",
   "nbconvert_exporter": "python",
   "pygments_lexer": "ipython3",
   "version": "3.13.5"
  }
 },
 "nbformat": 4,
 "nbformat_minor": 5
}
