{
 "cells": [
  {
   "cell_type": "code",
   "execution_count": 3,
   "id": "f41eac8d",
   "metadata": {},
   "outputs": [],
   "source": [
    "def key_var_len_args(**kwargs):\n",
    "    print(type(kwargs))\n",
    "    print(kwargs)"
   ]
  },
  {
   "cell_type": "code",
   "execution_count": 4,
   "id": "47eda185",
   "metadata": {},
   "outputs": [
    {
     "name": "stdout",
     "output_type": "stream",
     "text": [
      "<class 'dict'>\n",
      "{'name': 'pradosh', 'age': 21, 'education': 'BE'}\n"
     ]
    }
   ],
   "source": [
    "key_var_len_args(name=\"pradosh\", age =21, education =\"BE\")"
   ]
  },
  {
   "cell_type": "code",
   "execution_count": 7,
   "id": "b5e0b78f",
   "metadata": {},
   "outputs": [],
   "source": [
    "def  form_fill(**kwargs):\n",
    "    info =  {'Name' : None ,\n",
    "             'Mail' : None ,\n",
    "             'Age' : None ,  \n",
    "             \"Adress\" : None}\n",
    "    return info.update(kwargs)"
   ]
  },
  {
   "cell_type": "code",
   "execution_count": 13,
   "id": "78681f13",
   "metadata": {},
   "outputs": [],
   "source": [
    "money = {500:3, 100:50 , 20:4}"
   ]
  },
  {
   "cell_type": "code",
   "execution_count": 37,
   "id": "42a79ab8",
   "metadata": {},
   "outputs": [],
   "source": [
    "def double_money(money_2):\n",
    "    doubled = {note: count * 2 \n",
    "    for note,count in money_2.items()}\n",
    "    return doubled"
   ]
  },
  {
   "cell_type": "code",
   "execution_count": 38,
   "id": "1161cce7",
   "metadata": {},
   "outputs": [
    {
     "name": "stdout",
     "output_type": "stream",
     "text": [
      "Doubled: {500: 6, 100: 100, 20: 8}\n"
     ]
    }
   ],
   "source": [
    "print(\"Doubled:\", double_money(money))"
   ]
  },
  {
   "cell_type": "code",
   "execution_count": null,
   "id": "49e2e470",
   "metadata": {},
   "outputs": [],
   "source": []
  }
 ],
 "metadata": {
  "kernelspec": {
   "display_name": "venv",
   "language": "python",
   "name": "python3"
  },
  "language_info": {
   "codemirror_mode": {
    "name": "ipython",
    "version": 3
   },
   "file_extension": ".py",
   "mimetype": "text/x-python",
   "name": "python",
   "nbconvert_exporter": "python",
   "pygments_lexer": "ipython3",
   "version": "3.13.5"
  }
 },
 "nbformat": 4,
 "nbformat_minor": 5
}
