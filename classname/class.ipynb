{
 "cells": [
  {
   "cell_type": "code",
   "execution_count": 2,
   "id": "446274a4",
   "metadata": {},
   "outputs": [],
   "source": [
    "#create class perosn \n",
    "class Person:\n",
    "    def __init__(self,name,age,gender,occupation):\n",
    "        self.name = name\n",
    "        self.age = age \n",
    "        self.gender = gender \n",
    "        self.occupation = occupation "
   ]
  },
  {
   "cell_type": "code",
   "execution_count": 3,
   "id": "f19779f5",
   "metadata": {},
   "outputs": [],
   "source": [
    "o1 = Person(name ='sunita', age = 24, gender='female', occupation = 'DA')"
   ]
  },
  {
   "cell_type": "code",
   "execution_count": 4,
   "id": "67bff4bc",
   "metadata": {},
   "outputs": [
    {
     "data": {
      "text/plain": [
       "<__main__.Person at 0x276e0b81160>"
      ]
     },
     "execution_count": 4,
     "metadata": {},
     "output_type": "execute_result"
    }
   ],
   "source": [
    "o1"
   ]
  },
  {
   "cell_type": "code",
   "execution_count": 5,
   "id": "95d3df69",
   "metadata": {},
   "outputs": [
    {
     "data": {
      "text/plain": [
       "'sunita'"
      ]
     },
     "execution_count": 5,
     "metadata": {},
     "output_type": "execute_result"
    }
   ],
   "source": [
    "o1.name"
   ]
  },
  {
   "cell_type": "code",
   "execution_count": 6,
   "id": "c9574b9d",
   "metadata": {},
   "outputs": [
    {
     "data": {
      "text/plain": [
       "24"
      ]
     },
     "execution_count": 6,
     "metadata": {},
     "output_type": "execute_result"
    }
   ],
   "source": [
    "o1.age"
   ]
  },
  {
   "cell_type": "code",
   "execution_count": 7,
   "id": "e228f5b7",
   "metadata": {},
   "outputs": [
    {
     "data": {
      "text/plain": [
       "'DA'"
      ]
     },
     "execution_count": 7,
     "metadata": {},
     "output_type": "execute_result"
    }
   ],
   "source": [
    "o1.occupation"
   ]
  },
  {
   "cell_type": "code",
   "execution_count": 8,
   "id": "14ffa958",
   "metadata": {},
   "outputs": [
    {
     "data": {
      "text/plain": [
       "'female'"
      ]
     },
     "execution_count": 8,
     "metadata": {},
     "output_type": "execute_result"
    }
   ],
   "source": [
    "o1.gender"
   ]
  },
  {
   "cell_type": "code",
   "execution_count": 9,
   "id": "0ec101f4",
   "metadata": {},
   "outputs": [],
   "source": [
    "o2 = Person(name = 'suresh', age=25, gender= 'male', occupation= 'DS')"
   ]
  },
  {
   "cell_type": "code",
   "execution_count": 10,
   "id": "a00e428e",
   "metadata": {},
   "outputs": [
    {
     "data": {
      "text/plain": [
       "'male'"
      ]
     },
     "execution_count": 10,
     "metadata": {},
     "output_type": "execute_result"
    }
   ],
   "source": [
    "o2.gender"
   ]
  },
  {
   "cell_type": "code",
   "execution_count": 11,
   "id": "84226758",
   "metadata": {},
   "outputs": [
    {
     "data": {
      "text/plain": [
       "'DS'"
      ]
     },
     "execution_count": 11,
     "metadata": {},
     "output_type": "execute_result"
    }
   ],
   "source": [
    "o2.occupation"
   ]
  },
  {
   "cell_type": "code",
   "execution_count": 12,
   "id": "1fb90b82",
   "metadata": {},
   "outputs": [],
   "source": [
    "#add education attribute for o2\n",
    "o2.education ='MBA'"
   ]
  },
  {
   "cell_type": "code",
   "execution_count": 14,
   "id": "dd09a7c1",
   "metadata": {},
   "outputs": [
    {
     "data": {
      "text/plain": [
       "'MBA'"
      ]
     },
     "execution_count": 14,
     "metadata": {},
     "output_type": "execute_result"
    }
   ],
   "source": [
    "o2.education"
   ]
  },
  {
   "cell_type": "code",
   "execution_count": 15,
   "id": "a9af2ce7",
   "metadata": {},
   "outputs": [],
   "source": [
    "o2.name = 'nitin'"
   ]
  },
  {
   "cell_type": "code",
   "execution_count": 17,
   "id": "821d82ab",
   "metadata": {},
   "outputs": [
    {
     "data": {
      "text/plain": [
       "'nitin'"
      ]
     },
     "execution_count": 17,
     "metadata": {},
     "output_type": "execute_result"
    }
   ],
   "source": [
    "o2.name"
   ]
  },
  {
   "cell_type": "code",
   "execution_count": 19,
   "id": "e142b831",
   "metadata": {},
   "outputs": [],
   "source": [
    "#to delete attribute \n",
    "o2.__delattr__('education')"
   ]
  },
  {
   "cell_type": "code",
   "execution_count": 22,
   "id": "d27918f2",
   "metadata": {},
   "outputs": [],
   "source": [
    "class Person:\n",
    "    def __init__(self,name,age,gender,occupation):\n",
    "        self.name = name\n",
    "        self.age = age \n",
    "        self.gender = gender \n",
    "        self.occupation = occupation \n",
    "\n",
    "\n",
    "        #Add method talk\n",
    "    def talk(self):\n",
    "        print(f'hi there my name is {self.name}')\n",
    "        print(f'my age is {self.age}')\n",
    "        print(f'my gender is {self.gender}')\n",
    "        print(f'my occupation is {self.occupation}')"
   ]
  },
  {
   "cell_type": "code",
   "execution_count": 23,
   "id": "ee087a2c",
   "metadata": {},
   "outputs": [],
   "source": [
    "o3 = Person(name='umesh' , age= 25, gender=\"male\", occupation=\"MBS\")"
   ]
  },
  {
   "cell_type": "code",
   "execution_count": 27,
   "id": "411ba0c9",
   "metadata": {},
   "outputs": [
    {
     "data": {
      "text/plain": [
       "'male'"
      ]
     },
     "execution_count": 27,
     "metadata": {},
     "output_type": "execute_result"
    }
   ],
   "source": [
    "o3.name\n",
    "o3.age\n",
    "o3.gender"
   ]
  },
  {
   "cell_type": "code",
   "execution_count": 28,
   "id": "4083d7e2",
   "metadata": {},
   "outputs": [
    {
     "name": "stdout",
     "output_type": "stream",
     "text": [
      "hi there my name is umesh\n",
      "my age is 25\n",
      "my gender is male\n",
      "my occupation is MBS\n"
     ]
    }
   ],
   "source": [
    "o3.talk()"
   ]
  },
  {
   "cell_type": "code",
   "execution_count": null,
   "id": "8498d7cf",
   "metadata": {},
   "outputs": [],
   "source": [
    "#class attributes\n",
    "#create class employee"
   ]
  },
  {
   "cell_type": "code",
   "execution_count": 32,
   "id": "462fcc89",
   "metadata": {},
   "outputs": [],
   "source": [
    "class employee:\n",
    "    company =\"TCS\"\n",
    "    def __init__(self , name , id):\n",
    "        self.name = name \n",
    "        self.id = id"
   ]
  },
  {
   "cell_type": "code",
   "execution_count": 33,
   "id": "e704bca3",
   "metadata": {},
   "outputs": [],
   "source": [
    "e1 = employee(name= 'raman', id = 'emp0001')"
   ]
  },
  {
   "cell_type": "code",
   "execution_count": 34,
   "id": "e8de0779",
   "metadata": {},
   "outputs": [],
   "source": [
    "e2 = employee(name='john', id='emp0002')"
   ]
  },
  {
   "cell_type": "code",
   "execution_count": 35,
   "id": "1f41bce4",
   "metadata": {},
   "outputs": [
    {
     "data": {
      "text/plain": [
       "'TCS'"
      ]
     },
     "execution_count": 35,
     "metadata": {},
     "output_type": "execute_result"
    }
   ],
   "source": [
    "e1.company"
   ]
  },
  {
   "cell_type": "code",
   "execution_count": 36,
   "id": "e66208aa",
   "metadata": {},
   "outputs": [
    {
     "data": {
      "text/plain": [
       "'TCS'"
      ]
     },
     "execution_count": 36,
     "metadata": {},
     "output_type": "execute_result"
    }
   ],
   "source": [
    "e2.company"
   ]
  },
  {
   "cell_type": "code",
   "execution_count": 95,
   "id": "180474f5",
   "metadata": {},
   "outputs": [],
   "source": [
    "from dataclasses import dataclass\n",
    "from typing import Union , List, Literal"
   ]
  },
  {
   "cell_type": "code",
   "execution_count": 96,
   "id": "520ff42a",
   "metadata": {},
   "outputs": [],
   "source": [
    "@dataclass\n",
    "class student:\n",
    "     name : str\n",
    "     marks : int|float\n",
    "     age : int \n",
    "     gender :  Literal[\"male\", 'female']\n",
    "     hobbies : list[str]\n",
    " "
   ]
  },
  {
   "cell_type": "code",
   "execution_count": 97,
   "id": "6c7e1ba6",
   "metadata": {},
   "outputs": [],
   "source": [
    "s1 = student(name='amar', marks=78, age=27, gender= 'male', hobbies='reading')"
   ]
  },
  {
   "cell_type": "code",
   "execution_count": 98,
   "id": "591a855b",
   "metadata": {},
   "outputs": [
    {
     "data": {
      "text/plain": [
       "'amar'"
      ]
     },
     "execution_count": 98,
     "metadata": {},
     "output_type": "execute_result"
    }
   ],
   "source": [
    "s1.name"
   ]
  },
  {
   "cell_type": "code",
   "execution_count": 99,
   "id": "7786824f",
   "metadata": {},
   "outputs": [
    {
     "data": {
      "text/plain": [
       "student(name='amar', marks=78, age=27, gender='male', hobbies='reading')"
      ]
     },
     "execution_count": 99,
     "metadata": {},
     "output_type": "execute_result"
    }
   ],
   "source": [
    "s1"
   ]
  },
  {
   "cell_type": "code",
   "execution_count": 100,
   "id": "f2a0adb4",
   "metadata": {},
   "outputs": [],
   "source": [
    "s3= student(name=1223, marks=34, age=17, gender='male', hobbies='reading ')"
   ]
  },
  {
   "cell_type": "code",
   "execution_count": 101,
   "id": "43af0113",
   "metadata": {},
   "outputs": [
    {
     "data": {
      "text/plain": [
       "1223"
      ]
     },
     "execution_count": 101,
     "metadata": {},
     "output_type": "execute_result"
    }
   ],
   "source": [
    "s3.name"
   ]
  },
  {
   "cell_type": "code",
   "execution_count": 102,
   "id": "4e135665",
   "metadata": {},
   "outputs": [
    {
     "data": {
      "text/plain": [
       "'reading '"
      ]
     },
     "execution_count": 102,
     "metadata": {},
     "output_type": "execute_result"
    }
   ],
   "source": [
    "s3.hobbies"
   ]
  },
  {
   "cell_type": "code",
   "execution_count": 104,
   "id": "cb8a5246",
   "metadata": {},
   "outputs": [],
   "source": [
    "@dataclass\n",
    "class student4:\n",
    "     name : str\n",
    "     marks : int|float\n",
    "     age : int \n",
    "     gender :  Literal[\"male\", 'female']\n",
    "     hobbies : list[str]\n",
    "\n",
    "     def info(self):\n",
    "          print(f'my name is {self.name}')\n",
    "          print(f'i have scored{self.marks}')\n",
    "          print(f'my age is {self.age}')\n",
    "          print(f'my gender is {self.gender}')\n",
    "          print(f'my hobbies are{self.hobbies}')"
   ]
  },
  {
   "cell_type": "code",
   "execution_count": 105,
   "id": "e16e752a",
   "metadata": {},
   "outputs": [],
   "source": [
    "s4 = student4(name=\"aryan\" , marks=24, age=20, gender=\"male\", hobbies=\"reading\")"
   ]
  },
  {
   "cell_type": "code",
   "execution_count": 85,
   "id": "ba1e3abc",
   "metadata": {},
   "outputs": [],
   "source": [
    "#create a class fir account "
   ]
  },
  {
   "cell_type": "code",
   "execution_count": 143,
   "id": "b87522e6",
   "metadata": {},
   "outputs": [],
   "source": [
    "@dataclass\n",
    "class account:\n",
    "    acc_name:str\n",
    "    acc_no:int\n",
    "    acc_bal:int|float\n",
    "        \n",
    "        #check balance \n",
    "    def check_balance(self):\n",
    "        print(f'current balance of account {self.acc_no} is {self.acc_bal}')\n",
    "        return\n",
    "\n",
    "\n",
    "        #deposite \n",
    "    def deposite(self, amount:int|float):\n",
    "        print(f'amount of {amount} deposited in {self.acc_no}')  \n",
    "        self.acc_bal += amount \n",
    "        return self.acc_bal()  \n",
    "    \n",
    "       \n",
    "       #withdraw\n",
    "    def withdraw(self, amount : int|float):\n",
    "        if amount <= self.acc_bal:\n",
    "            print(f'amount of {amount} is withdrawed from {self.acc_no}')\n",
    "            self.acc_bal = self.acc_bal - amount\n",
    "            return self.check_balance()\n",
    "        else:\n",
    "            raise ValueError(\"insufficent balance\")\n",
    "        \n",
    "\n",
    "        #transfer money \n",
    "    def tranfer(self, amount:int|float , ac= \"account\"):\n",
    "        self.withdraw(amount)\n",
    "        ac.deposite(amount)\n",
    "        return self.check_balance\n",
    "\n",
    "\n",
    "\n"
   ]
  },
  {
   "cell_type": "code",
   "execution_count": 144,
   "id": "2a2e83e7",
   "metadata": {},
   "outputs": [],
   "source": [
    "a1 = account(acc_name=\"sarathak \", acc_no=1234, acc_bal=2000)"
   ]
  },
  {
   "cell_type": "code",
   "execution_count": 145,
   "id": "706624a5",
   "metadata": {},
   "outputs": [
    {
     "data": {
      "text/plain": [
       "'sarathak '"
      ]
     },
     "execution_count": 145,
     "metadata": {},
     "output_type": "execute_result"
    }
   ],
   "source": [
    "a1.acc_name"
   ]
  },
  {
   "cell_type": "code",
   "execution_count": 146,
   "id": "0bbb7ee7",
   "metadata": {},
   "outputs": [
    {
     "data": {
      "text/plain": [
       "1234"
      ]
     },
     "execution_count": 146,
     "metadata": {},
     "output_type": "execute_result"
    }
   ],
   "source": [
    "a1.acc_no"
   ]
  },
  {
   "cell_type": "code",
   "execution_count": 147,
   "id": "948a0111",
   "metadata": {},
   "outputs": [
    {
     "name": "stdout",
     "output_type": "stream",
     "text": [
      "current balance of account 1234 is 2000\n"
     ]
    }
   ],
   "source": [
    "a1.check_balance()"
   ]
  },
  {
   "cell_type": "code",
   "execution_count": 148,
   "id": "39a5cd4c",
   "metadata": {},
   "outputs": [
    {
     "name": "stdout",
     "output_type": "stream",
     "text": [
      "amount of 2000 is withdrawed from 1234\n",
      "current balance of account 1234 is 0\n"
     ]
    }
   ],
   "source": [
    "a1.withdraw(2000)"
   ]
  },
  {
   "cell_type": "code",
   "execution_count": 149,
   "id": "165a4fbc",
   "metadata": {},
   "outputs": [
    {
     "ename": "ValueError",
     "evalue": "insufficent balance",
     "output_type": "error",
     "traceback": [
      "\u001b[31m---------------------------------------------------------------------------\u001b[39m",
      "\u001b[31mValueError\u001b[39m                                Traceback (most recent call last)",
      "\u001b[36mCell\u001b[39m\u001b[36m \u001b[39m\u001b[32mIn[149]\u001b[39m\u001b[32m, line 1\u001b[39m\n\u001b[32m----> \u001b[39m\u001b[32m1\u001b[39m \u001b[43ma1\u001b[49m\u001b[43m.\u001b[49m\u001b[43mwithdraw\u001b[49m\u001b[43m(\u001b[49m\u001b[32;43m3550\u001b[39;49m\u001b[43m)\u001b[49m\n",
      "\u001b[36mCell\u001b[39m\u001b[36m \u001b[39m\u001b[32mIn[143]\u001b[39m\u001b[32m, line 27\u001b[39m, in \u001b[36maccount.withdraw\u001b[39m\u001b[34m(self, amount)\u001b[39m\n\u001b[32m     25\u001b[39m     \u001b[38;5;28;01mreturn\u001b[39;00m \u001b[38;5;28mself\u001b[39m.check_balance()\n\u001b[32m     26\u001b[39m \u001b[38;5;28;01melse\u001b[39;00m:\n\u001b[32m---> \u001b[39m\u001b[32m27\u001b[39m     \u001b[38;5;28;01mraise\u001b[39;00m \u001b[38;5;167;01mValueError\u001b[39;00m(\u001b[33m\"\u001b[39m\u001b[33minsufficent balance\u001b[39m\u001b[33m\"\u001b[39m)\n",
      "\u001b[31mValueError\u001b[39m: insufficent balance"
     ]
    }
   ],
   "source": [
    "a1.withdraw(3550)"
   ]
  },
  {
   "cell_type": "code",
   "execution_count": 150,
   "id": "3c9b7d45",
   "metadata": {},
   "outputs": [],
   "source": [
    "a2 = account(acc_name= \"john\", acc_no=123456, acc_bal=500)"
   ]
  },
  {
   "cell_type": "code",
   "execution_count": 176,
   "id": "460418cf",
   "metadata": {},
   "outputs": [],
   "source": [
    "@dataclass\n",
    "class tringle:\n",
    "    s1: int|float\n",
    "    s2: int|float\n",
    "    s3:int|float\n",
    "\n",
    "    def perimeter(self):\n",
    "        if (self.s1+self.s2>self.s3) and \\\n",
    "        (self.s2+self.s3>self.s1) and \\\n",
    "        (self.s1+self.s3>self.s2):\n",
    "            p = self.s1+self.s2+self.s3\n",
    "            print(f'perimeter of triangle is {p}')\n",
    "            return p\n",
    "        \n",
    "\n",
    "    #create method for area\n",
    "    def area(self):\n",
    "        if self.parameter() is not None:\n",
    "            s = self.parameter()/2\n",
    "            area = (s*(s-self.s1)*(s-self.s2)*(s-self.s3))**1/2 \n",
    "    "
   ]
  },
  {
   "cell_type": "code",
   "execution_count": 177,
   "id": "3fef4ed7",
   "metadata": {},
   "outputs": [],
   "source": [
    "t1 = tringle(23,34,56)"
   ]
  },
  {
   "cell_type": "code",
   "execution_count": 178,
   "id": "3521e5dd",
   "metadata": {},
   "outputs": [
    {
     "name": "stdout",
     "output_type": "stream",
     "text": [
      "23 34 56\n"
     ]
    }
   ],
   "source": [
    "print(t1.s1, t1.s2,t1.s3)"
   ]
  },
  {
   "cell_type": "code",
   "execution_count": 179,
   "id": "66f1f238",
   "metadata": {},
   "outputs": [
    {
     "name": "stdout",
     "output_type": "stream",
     "text": [
      "perimeter of triangle is 113\n"
     ]
    },
    {
     "data": {
      "text/plain": [
       "113"
      ]
     },
     "execution_count": 179,
     "metadata": {},
     "output_type": "execute_result"
    }
   ],
   "source": [
    "t1.perimeter()"
   ]
  },
  {
   "cell_type": "code",
   "execution_count": 180,
   "id": "65db415d",
   "metadata": {},
   "outputs": [
    {
     "data": {
      "text/plain": [
       "<bound method tringle.area of tringle(s1=23, s2=34, s3=56)>"
      ]
     },
     "execution_count": 180,
     "metadata": {},
     "output_type": "execute_result"
    }
   ],
   "source": [
    "t1.area"
   ]
  },
  {
   "cell_type": "code",
   "execution_count": 181,
   "id": "cce3e868",
   "metadata": {},
   "outputs": [
    {
     "name": "stdout",
     "output_type": "stream",
     "text": [
      "perimeter of triangle is 113\n"
     ]
    },
    {
     "data": {
      "text/plain": [
       "113"
      ]
     },
     "execution_count": 181,
     "metadata": {},
     "output_type": "execute_result"
    }
   ],
   "source": [
    "t1.perimeter()"
   ]
  },
  {
   "cell_type": "code",
   "execution_count": null,
   "id": "fda76576",
   "metadata": {},
   "outputs": [],
   "source": []
  },
  {
   "cell_type": "code",
   "execution_count": null,
   "id": "04e4919c",
   "metadata": {},
   "outputs": [],
   "source": []
  },
  {
   "cell_type": "code",
   "execution_count": null,
   "id": "e0d0d317",
   "metadata": {},
   "outputs": [],
   "source": []
  }
 ],
 "metadata": {
  "kernelspec": {
   "display_name": "venv",
   "language": "python",
   "name": "python3"
  },
  "language_info": {
   "codemirror_mode": {
    "name": "ipython",
    "version": 3
   },
   "file_extension": ".py",
   "mimetype": "text/x-python",
   "name": "python",
   "nbconvert_exporter": "python",
   "pygments_lexer": "ipython3",
   "version": "3.13.5"
  }
 },
 "nbformat": 4,
 "nbformat_minor": 5
}
